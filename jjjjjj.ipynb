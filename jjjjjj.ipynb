{
  "cells": [
    {
      "cell_type": "code",
      "execution_count": null,
      "metadata": {
        "trusted": true
      },
      "outputs": [],
      "source": []
    },
    {
      "cell_type": "code",
      "execution_count": 7,
      "metadata": {},
      "outputs": [
        {
          "ename": "ModuleNotFoundError",
          "evalue": "No module named 'numpy'",
          "output_type": "error",
          "traceback": [
            "\u001b[1;31m---------------------------------------------------------------------------\u001b[0m",
            "\u001b[1;31mModuleNotFoundError\u001b[0m                       Traceback (most recent call last)",
            "Cell \u001b[1;32mIn[7], line 1\u001b[0m\n\u001b[1;32m----> 1\u001b[0m \u001b[38;5;28;01mimport\u001b[39;00m \u001b[38;5;21;01mnumpy\u001b[39;00m \u001b[38;5;28;01mas\u001b[39;00m \u001b[38;5;21;01mnp\u001b[39;00m\n\u001b[0;32m      2\u001b[0m \u001b[38;5;28;01mimport\u001b[39;00m \u001b[38;5;21;01mpandas\u001b[39;00m \u001b[38;5;28;01mas\u001b[39;00m \u001b[38;5;21;01mpd\u001b[39;00m\n\u001b[0;32m      3\u001b[0m \u001b[38;5;28;01mfrom\u001b[39;00m \u001b[38;5;21;01msklearn\u001b[39;00m\u001b[38;5;21;01m.\u001b[39;00m\u001b[38;5;21;01mpreprocessing\u001b[39;00m \u001b[38;5;28;01mimport\u001b[39;00m MinMaxScaler\n",
            "\u001b[1;31mModuleNotFoundError\u001b[0m: No module named 'numpy'"
          ]
        }
      ],
      "source": [
        "import numpy as np\n",
        "import pandas as pd\n",
        "from sklearn.preprocessing import MinMaxScaler\n",
        "import matplotlib.pyplot as plt\n",
        "import seaborn as sns\n",
        "\n",
        "# Set the file path\n",
        "file_path = r\"C:\\Users\\Hello\\source\\repos\\ConsoleApp2\\ConsoleApp2\\books.csv\"\n",
        "\n",
        "# Read the dataset\n",
        "books_df = pd.read_csv(file_path)\n",
        "\n",
        "# Drop missing values\n",
        "books_df.dropna(inplace=True)\n",
        "\n",
        "# Remove duplicates\n",
        "books_df.drop_duplicates(subset=None, keep='first', inplace=True)\n",
        "\n",
        "# Drop unnecessary columns\n",
        "books_df = books_df.drop(columns=['book_id', 'authors', 'title', 'ratings_count',\n",
        "                                  'isbn13', 'ratings_1', 'small_image_url', 'ratings_2'])\n",
        "\n",
        "# Filter Harry Potter books\n",
        "harry_potter_books = books_df[books_df['original_title'].str.contains(\"Harry Potter\", case=False)]\n",
        "\n",
        "# Print statistics\n",
        "print(\"Number of Harry Potter books:\", len(harry_potter_books))\n",
        "print(\"Average rating of Harry Potter books:\", harry_potter_books['average_rating'].mean())\n",
        "\n",
        "# Plot distribution of ratings for Harry Potter books\n",
        "plt.figure(figsize=(10, 6))\n",
        "sns.histplot(data=harry_potter_books, x='average_rating', bins=20, kde=True, color='skyblue')\n",
        "plt.title('Distribution of Ratings for Harry Potter Books')\n",
        "plt.xlabel('Average Rating')\n",
        "plt.ylabel('Frequency')\n",
        "plt.grid(True, linestyle='--', alpha=0.5)  # Add grid lines\n",
        "plt.xticks(np.arange(3, 5.5, step=0.25))     # Adjust x-axis ticks\n",
        "plt.show()\n",
        "\n",
        "# Save cleaned dataset to Excel\n",
        "cleaned_file_path = \"cleaned.xlsx\"\n",
        "books_df.to_excel(cleaned_file_path, index=False)\n",
        "print(f\"Cleaned dataset saved to {cleaned_file_path}\")\n",
        "\n",
        "# Display the first few rows of the cleaned dataset\n",
        "print(books_df.head())\n"
      ]
    }
  ],
  "metadata": {
    "kernelspec": {
      "display_name": "Python 3",
      "language": "python",
      "name": "python3"
    },
    "language_info": {
      "codemirror_mode": {
        "name": "ipython",
        "version": 3
      },
      "file_extension": ".py",
      "mimetype": "text/x-python",
      "name": "python",
      "nbconvert_exporter": "python",
      "pygments_lexer": "ipython3",
      "version": "3.11.8"
    }
  },
  "nbformat": 4,
  "nbformat_minor": 4
}
